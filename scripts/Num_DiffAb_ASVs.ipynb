{
 "cells": [
  {
   "cell_type": "code",
   "execution_count": 91,
   "metadata": {},
   "outputs": [],
   "source": [
    "import pandas as pd\n",
    "import seaborn as sns\n",
    "import numpy as np\n",
    "import matplotlib.pyplot as plt\n",
    "import matplotlib\n",
    "import datetime\n",
    "from scipy import stats\n",
    "from statsmodels.stats.anova import anova_lm\n",
    "from statsmodels.formula.api import ols\n",
    "import statsmodels.api as sm\n",
    "import statsmodels.formula.api as smf\n",
    "from statsmodels.nonparametric.smoothers_lowess import lowess\n",
    "from Bio.SeqIO.FastaIO import SimpleFastaParser\n",
    "\n",
    "#run_type = \"dry\"\n",
    "run_type = \"wet\"\n",
    "\n",
    "\n",
    "new_day = datetime.datetime.now().strftime(\"%Y%m%d\")\n",
    "\n",
    "palette = {\"DR_lifelong\":\"red\", \"AL_lifelong\":\"dodgerblue\", \n",
    "           \"AL_DR16M\":\"teal\", \"AL_DR20M\":\"gold\", \"Food\":\"brown\"}\n",
    "path = \"../analysis/plots/deseq_timepoints/\""
   ]
  },
  {
   "cell_type": "code",
   "execution_count": 92,
   "metadata": {},
   "outputs": [],
   "source": [
    "m5 = pd.read_csv(\"../analysis/deseq_timepoints/ALDR_5M_20210901.csv\", sep = \";\")\n",
    "m20 = pd.read_csv(\"../analysis/deseq_timepoints/ALDR_20M_20210901.csv\", sep = \";\")\n",
    "m24 = pd.read_csv(\"../analysis/deseq_timepoints/ALDR_24M_20210901.csv\", sep = \";\")\n",
    "\n",
    "mat = pd.concat([m5, m20, m24], \n",
    "                keys = [5, 20, 24])\n",
    "mat.reset_index(inplace = True)\n",
    "mat.columns = [\"Months\", \"trash\", \"sequence\", 'baseMean', 'log2FoldChange', 'lfcSE', 'stat', 'pvalue',\n",
    "       'padj', 'Kingdom', 'Phylum', 'Class', 'Order', 'Family', 'Genus']\n",
    "mat.drop(columns = [\"trash\"], inplace = True)\n",
    "# Make a tax column to compare to lefse\n",
    "mat[\"tax\"] = mat[[\"Kingdom\", \"Phylum\", \"Class\", \"Order\", \"Family\", \"Genus\"]].astype(str).agg(\"_\".join, axis = 1)\n",
    "mat[\"tax\"] = list(mat[\"tax\"].str.replace(\"_nan\", \"_NA\"))"
   ]
  },
  {
   "cell_type": "code",
   "execution_count": 93,
   "metadata": {},
   "outputs": [],
   "source": [
    "# Read fasta with ASV names to put OTU into our dataframe\n",
    "with open('../analysis/seqtab_merge3/mergedQC/CLEAN_ASVs_merged_20210215.fa') as fasta_file:  # Will close handle cleanly\n",
    "    identifiers = []\n",
    "    seqs = []\n",
    "    for title, sequence in SimpleFastaParser(fasta_file):\n",
    "        identifiers.append(title.split(None, 1)[0])  # First word is ID\n",
    "        seqs.append(sequence)\n",
    "\n",
    "fasta_tuples = list(zip(identifiers, seqs))\n",
    "df_fa = pd.DataFrame(fasta_tuples, columns = [\"OTU\", \"sequence\"])"
   ]
  },
  {
   "cell_type": "code",
   "execution_count": 94,
   "metadata": {},
   "outputs": [],
   "source": [
    "# Merge into our matrix with FC and stuff\n",
    "mer = pd.merge(mat, df_fa, how = \"left\", on = \"sequence\")\n",
    "\n",
    "dfpl = mer.loc[:, [\"Months\", \"log2FoldChange\", \"OTU\"]].pivot_table(index = \"OTU\", \n",
    "                    columns = \"Months\", values = \"log2FoldChange\")\n",
    "dfpl.fillna(0, inplace = True)\n",
    "dfpl = dfpl.reset_index()"
   ]
  },
  {
   "cell_type": "code",
   "execution_count": 95,
   "metadata": {},
   "outputs": [
    {
     "name": "stdout",
     "output_type": "stream",
     "text": [
      "ALDR 5M: 20\n",
      "ALDR 20M: 79\n",
      "ALDR 24M: 39\n"
     ]
    }
   ],
   "source": [
    "print(f\"ALDR 5M: {(dfpl[5]!=0).sum()}\")\n",
    "print(f\"ALDR 20M: {(dfpl[20]!=0).sum()}\")\n",
    "print(f\"ALDR 24M: {(dfpl[24]!=0).sum()}\")"
   ]
  },
  {
   "cell_type": "code",
   "execution_count": 96,
   "metadata": {},
   "outputs": [],
   "source": [
    "dfam = pd.DataFrame({\"DR_lifelong\": [20, 79, 39],\n",
    "                    \"AL_DR16M\": [0, 94, 39], \n",
    "                    \"AL_DR20M\": [0, 0, 34]})\n",
    "dfam = dfam.T\n",
    "dfam = dfam.reset_index()\n",
    "dfam.columns = [\"Treatment\", \"5\", \"20\", \"24\"]\n",
    "\n",
    "dfam = pd.melt(dfam, id_vars=['Treatment'], value_vars=['5', \"20\", \"24\"],\n",
    "         var_name='Months', value_name='values')"
   ]
  },
  {
   "cell_type": "code",
   "execution_count": 101,
   "metadata": {},
   "outputs": [
    {
     "data": {
      "image/png": "[encoded data removed]",
      "text/plain": [
       "<Figure size 432x288 with 1 Axes>"
      ]
     },
     "metadata": {
      "needs_background": "light"
     },
     "output_type": "display_data"
    }
   ],
   "source": [
    "fig, ax = plt.subplots(figsize = (6, 4))\n",
    "a = sns.barplot(data = dfam, hue = \"Treatment\", x = \"Months\", y = 'values', \n",
    "            order = [\"5\", \"20\", \"24\"], palette = palette)\n",
    "a.legend_.remove()\n",
    "ax.tick_params(axis = \"x\", labelsize=16)\n",
    "ax.tick_params(axis = \"y\", labelsize=16)\n",
    "ax.set_xlabel(\"Age [Months]\", fontsize = 18)\n",
    "ax.set_ylabel(\"Number of ASVs\", fontsize = 18)\n",
    "plt.title(\"Differentially Abundant ASVs (vs AL)\\n\", fontsize = 18)\n",
    "plt.ylim(0, 90)\n",
    "\n",
    "ax.spines['right'].set_visible(False)\n",
    "ax.spines['top'].set_visible(False)\n",
    "matplotlib.rcParams['pdf.fonttype'] = 42\n",
    "plt.tight_layout()\n",
    "\n",
    "if run_type != \"dry\":\n",
    "    plt.savefig(path + \"NumASVs_vsAL_{}.pdf\".format(new_day))\n",
    "else:\n",
    "    plt.show()"
   ]
  },
  {
   "cell_type": "code",
   "execution_count": 99,
   "metadata": {},
   "outputs": [],
   "source": [
    "dfamDR = pd.DataFrame({\"AL_lifelong\": [20, 79, 39],\n",
    "                    \"AL_DR16M\": [0, 15, 29], \n",
    "                    \"AL_DR20M\": [0, 0, 15]})\n",
    "dfamDR = dfamDR.T\n",
    "dfamDR = dfamDR.reset_index()\n",
    "dfamDR.columns = [\"Treatment\", \"5\", \"20\", \"24\"]\n",
    "\n",
    "dfamDR = pd.melt(dfamDR, id_vars=['Treatment'], value_vars=['5', \"20\", \"24\"],\n",
    "         var_name='Months', value_name='values')"
   ]
  },
  {
   "cell_type": "code",
   "execution_count": 102,
   "metadata": {},
   "outputs": [
    {
     "data": {
      "image/png": "[encoded data removed]",
      "text/plain": [
       "<Figure size 432x288 with 1 Axes>"
      ]
     },
     "metadata": {
      "needs_background": "light"
     },
     "output_type": "display_data"
    }
   ],
   "source": [
    "fig, ax = plt.subplots(figsize = (6, 4))\n",
    "a = sns.barplot(data = dfamDR, hue = \"Treatment\", x = \"Months\", y = 'values', \n",
    "            order = [\"5\", \"20\", \"24\"], palette = palette)\n",
    "a.legend_.remove()\n",
    "ax.tick_params(axis = \"x\", labelsize=16)\n",
    "ax.tick_params(axis = \"y\", labelsize=16)\n",
    "ax.set_xlabel(\"Age [Months]\", fontsize = 18)\n",
    "ax.set_ylabel(\"Number of ASVs\", fontsize = 18)\n",
    "plt.title(\"Differentially Abundant ASVs (vs DR)\\n\", fontsize = 18)\n",
    "plt.ylim(0, 90)\n",
    "\n",
    "ax.spines['right'].set_visible(False)\n",
    "ax.spines['top'].set_visible(False)\n",
    "matplotlib.rcParams['pdf.fonttype'] = 42\n",
    "plt.tight_layout()\n",
    "\n",
    "if run_type != \"dry\":\n",
    "    plt.savefig(path + \"NumASVs_vsDR_{}.pdf\".format(new_day))\n",
    "else:\n",
    "    plt.show()"
   ]
  },
  {
   "cell_type": "code",
   "execution_count": null,
   "metadata": {},
   "outputs": [],
   "source": []
  }
 ],
 "metadata": {
  "kernelspec": {
   "display_name": "Python 3",
   "language": "python",
   "name": "python3"
  },
  "language_info": {
   "codemirror_mode": {
    "name": "ipython",
    "version": 3
   },
   "file_extension": ".py",
   "mimetype": "text/x-python",
   "name": "python",
   "nbconvert_exporter": "python",
   "pygments_lexer": "ipython3",
   "version": "3.7.3"
  }
 },
 "nbformat": 4,
 "nbformat_minor": 2
}
